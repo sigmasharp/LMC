{
 "cells": [
  {
   "cell_type": "code",
   "execution_count": 3,
   "metadata": {
    "collapsed": false
   },
   "outputs": [
    {
     "name": "stdout",
     "output_type": "stream",
     "text": [
      "[[u'films', u'adapted', u'from', u'comic', u'books', u'have', u'had', u'plenty', u'of', u'success', u',', u'whether', u'they', u\"'\", u're', u'about', u'superheroes', u'(', u'batman', u',', u'superman', u',', u'spawn', u')', u',', u'or', u'geared', u'toward', u'kids', u'(', u'casper', u')', u'or', u'the', u'arthouse', u'crowd', u'(', u'ghost', u'world', u')', u',', u'but', u'there', u\"'\", u's', u'never', u'really', u'been', u'a', u'comic', u'book', u'like', u'from', u'hell', u'before', u'.'], [u'for', u'starters', u',', u'it', u'was', u'created', u'by', u'alan', u'moore', u'(', u'and', u'eddie', u'campbell', u')', u',', u'who', u'brought', u'the', u'medium', u'to', u'a', u'whole', u'new', u'level', u'in', u'the', u'mid', u\"'\", u'80s', u'with', u'a', u'12', u'-', u'part', u'series', u'called', u'the', u'watchmen', u'.'], [u'to', u'say', u'moore', u'and', u'campbell', u'thoroughly', u'researched', u'the', u'subject', u'of', u'jack', u'the', u'ripper', u'would', u'be', u'like', u'saying', u'michael', u'jackson', u'is', u'starting', u'to', u'look', u'a', u'little', u'odd', u'.'], [u'the', u'book', u'(', u'or', u'\"', u'graphic', u'novel', u',', u'\"', u'if', u'you', u'will', u')', u'is', u'over', u'500', u'pages', u'long', u'and', u'includes', u'nearly', u'30', u'more', u'that', u'consist', u'of', u'nothing', u'but', u'footnotes', u'.'], [u'in', u'other', u'words', u',', u'don', u\"'\", u't', u'dismiss', u'this', u'film', u'because', u'of', u'its', u'source', u'.']]\n",
      "[[u'plot', u':', u'two', u'teen', u'couples', u'go', u'to', u'a', u'church', u'party', u',', u'drink', u'and', u'then', u'drive', u'.'], [u'they', u'get', u'into', u'an', u'accident', u'.'], [u'one', u'of', u'the', u'guys', u'dies', u',', u'but', u'his', u'girlfriend', u'continues', u'to', u'see', u'him', u'in', u'her', u'life', u',', u'and', u'has', u'nightmares', u'.'], [u'what', u\"'\", u's', u'the', u'deal', u'?'], [u'watch', u'the', u'movie', u'and', u'\"', u'sorta', u'\"', u'find', u'out', u'.']]\n"
     ]
    }
   ],
   "source": [
    "import nltk\n",
    "\n",
    "pos_sents = nltk.corpus.movie_reviews.sents(categories='pos')\n",
    "neg_sents = nltk.corpus.movie_reviews.sents(categories='neg')\n",
    "\n",
    "print pos_sents[:5]\n",
    "print neg_sents[:5]"
   ]
  },
  {
   "cell_type": "code",
   "execution_count": 4,
   "metadata": {
    "collapsed": false
   },
   "outputs": [
    {
     "name": "stdout",
     "output_type": "stream",
     "text": [
      "36037\n"
     ]
    }
   ],
   "source": [
    "print len(pos_sents)"
   ]
  },
  {
   "cell_type": "code",
   "execution_count": 5,
   "metadata": {
    "collapsed": false
   },
   "outputs": [
    {
     "name": "stdout",
     "output_type": "stream",
     "text": [
      "35495\n"
     ]
    }
   ],
   "source": [
    "print len(neg_sents)"
   ]
  },
  {
   "cell_type": "code",
   "execution_count": 6,
   "metadata": {
    "collapsed": false
   },
   "outputs": [
    {
     "name": "stdout",
     "output_type": "stream",
     "text": [
      "films adapted from comic books have had plenty of success , whether they ' re about superheroes ( batman , superman , spawn ) , or geared toward kids ( casper ) or the arthouse crowd ( ghost world ) , but there ' s never really been a comic book like from hell before .\n"
     ]
    }
   ],
   "source": [
    "print ' '.join(pos_sents[0])"
   ]
  },
  {
   "cell_type": "code",
   "execution_count": 8,
   "metadata": {
    "collapsed": true
   },
   "outputs": [],
   "source": [
    "f = open('./mr/pos.txt', 'w')\n",
    "g = open('./mr/posdev.txt', 'w')\n",
    "\n",
    "for i in pos_sents[:26000]:\n",
    "    f.write(' '.join(i)+'\\n')\n",
    "f.close()\n",
    "for i in pos_sents[26000:]:\n",
    "    g.write(' '.join(i)+'\\n')\n",
    "g.close()"
   ]
  },
  {
   "cell_type": "code",
   "execution_count": 9,
   "metadata": {
    "collapsed": true
   },
   "outputs": [],
   "source": [
    "f = open('./mr/neg.txt', 'w')\n",
    "g = open('./mr/negdev.txt', 'w')\n",
    "\n",
    "for i in neg_sents[:26000]:\n",
    "    f.write(' '.join(i)+'\\n')\n",
    "f.close()\n",
    "for i in neg_sents[26000:]:\n",
    "    g.write(' '.join(i)+'\\n')\n",
    "g.close()"
   ]
  },
  {
   "cell_type": "code",
   "execution_count": null,
   "metadata": {
    "collapsed": true
   },
   "outputs": [],
   "source": []
  }
 ],
 "metadata": {
  "kernelspec": {
   "display_name": "Python 2",
   "language": "python",
   "name": "python2"
  },
  "language_info": {
   "codemirror_mode": {
    "name": "ipython",
    "version": 2
   },
   "file_extension": ".py",
   "mimetype": "text/x-python",
   "name": "python",
   "nbconvert_exporter": "python",
   "pygments_lexer": "ipython2",
   "version": "2.7.6"
  }
 },
 "nbformat": 4,
 "nbformat_minor": 0
}
