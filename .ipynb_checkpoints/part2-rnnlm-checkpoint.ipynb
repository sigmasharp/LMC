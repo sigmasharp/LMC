{
 "cells": [
  {
   "cell_type": "code",
   "execution_count": 17,
   "metadata": {
    "collapsed": false
   },
   "outputs": [
    {
     "data": {
      "text/plain": [
       "<module 'rnnlm' from 'rnnlm.pyc'>"
      ]
     },
     "execution_count": 17,
     "metadata": {},
     "output_type": "execute_result"
    }
   ],
   "source": [
    "import os, sys, re, json, time, shutil\n",
    "import itertools\n",
    "import collections\n",
    "from IPython.display import display\n",
    "\n",
    "# NLTK for NLP utils and corpora\n",
    "import nltk\n",
    "\n",
    "# NumPy and TensorFlow\n",
    "import numpy as np\n",
    "import tensorflow as tf\n",
    "\n",
    "# Pandas because pandas are awesome, and for pretty-printing\n",
    "import pandas as pd\n",
    "# Set pandas floating point display\n",
    "pd.set_option('float_format', lambda f: \"{0:.04f}\".format(f))\n",
    "\n",
    "# Helper libraries for this notebook\n",
    "import utils; reload(utils)\n",
    "import vocabulary; reload(vocabulary)\n",
    "import rnnlm; reload(rnnlm)"
   ]
  },
  {
   "cell_type": "code",
   "execution_count": 18,
   "metadata": {
    "collapsed": false,
    "scrolled": true
   },
   "outputs": [
    {
     "name": "stdout",
     "output_type": "stream",
     "text": [
      "WARNING:tensorflow:From <ipython-input-18-f88f5e1dba32>:17 in <module>.: __init__ (from tensorflow.python.training.summary_io) is deprecated and will be removed after 2016-11-30.\n",
      "Instructions for updating:\n",
      "Please switch to tf.summary.FileWriter. The interface and behavior is the same; this is just a rename.\n"
     ]
    },
    {
     "name": "stderr",
     "output_type": "stream",
     "text": [
      "WARNING:tensorflow:From <ipython-input-18-f88f5e1dba32>:17 in <module>.: __init__ (from tensorflow.python.training.summary_io) is deprecated and will be removed after 2016-11-30.\n",
      "Instructions for updating:\n",
      "Please switch to tf.summary.FileWriter. The interface and behavior is the same; this is just a rename.\n"
     ]
    }
   ],
   "source": [
    "import tensorflow as tf\n",
    "import rnnlm; reload(rnnlm)\n",
    "\n",
    "# Clear old log directory\n",
    "shutil.rmtree(\"tf_summaries\", ignore_errors=True)\n",
    "\n",
    "\n",
    "with tf.Graph().as_default():\n",
    "  tf.set_random_seed(42)\n",
    "\n",
    "  lm = rnnlm.RNNLM(V=10000, H=200, num_layers=2)\n",
    "  lm.BuildCoreGraph()\n",
    "  lm.BuildTrainGraph()\n",
    "  lm.BuildSamplerGraph()\n",
    "\n",
    "  summary_writer = tf.train.SummaryWriter(\"tf_summaries\", \n",
    "                                          tf.get_default_graph())\n",
    "dev_sents = {}"
   ]
  },
  {
   "cell_type": "code",
   "execution_count": 19,
   "metadata": {
    "collapsed": false
   },
   "outputs": [],
   "source": [
    "def run_epoch(lm, session, batch_iterator, train=False,\n",
    "              verbose=False, tick_s=10, \n",
    "              keep_prob=1.0, learning_rate=0.1):\n",
    "  start_time = time.time()\n",
    "  tick_time = start_time  # for showing status\n",
    "  total_cost = 0.0  # total cost, summed over all words\n",
    "  total_words = 0\n",
    "\n",
    "  if train:\n",
    "    train_op = lm.train_step_\n",
    "    keep_prob = keep_prob\n",
    "    loss = lm.train_loss_\n",
    "  else:\n",
    "    train_op = tf.no_op()\n",
    "    keep_prob = 1.0  # no dropout at test time\n",
    "    loss = lm.loss_  # true loss, if train_loss is an approximation\n",
    "\n",
    "  for i, (w, y) in enumerate(batch_iterator):\n",
    "    cost = 0.0\n",
    "    #### YOUR CODE HERE ####\n",
    "    np.random.seed(42)\n",
    "\n",
    "    # At first batch in epoch, get a clean intitial state\n",
    "    if i == 0:\n",
    "        h = session.run(lm.initial_h_, {lm.input_w_: w})\n",
    " \n",
    "    cost, h, _ = session.run([loss, lm.final_h_, train_op], feed_dict= {lm.target_y_: y, lm.initial_h_:h,\n",
    "        lm.input_w_: w, lm.dropout_keep_prob_:keep_prob, lm.learning_rate_:learning_rate})      \n",
    "    \n",
    "    #### END(YOUR CODE) ####\n",
    "    total_cost += cost\n",
    "    total_words += w.size  # w.size = batch_size * max_time\n",
    "\n",
    "    ##\n",
    "    # Print average loss-so-far for epoch\n",
    "    # If using train_loss_, this may be an underestimate.\n",
    "    if verbose and (time.time() - tick_time >= tick_s):\n",
    "      avg_cost = total_cost / total_words\n",
    "      avg_wps = total_words / (time.time() - start_time)\n",
    "      print \"[batch %d]: seen %d words at %d wps, loss = %.3f\" % (i,\n",
    "          total_words, avg_wps, avg_cost)\n",
    "      tick_time = time.time()  # reset time ticker\n",
    "\n",
    "  return total_cost / total_words"
   ]
  },
  {
   "cell_type": "code",
   "execution_count": 20,
   "metadata": {
    "collapsed": false
   },
   "outputs": [
    {
     "name": "stdout",
     "output_type": "stream",
     "text": [
      "Sat, 17 Dec 2016 06:57:33\n",
      "here\n",
      "Loaded 35495 sentences (751256 tokens)\n",
      "Training set: 28396 sentences (601237 tokens)\n",
      "Test set: 7099 sentences (150019 tokens)\n",
      "Sat, 17 Dec 2016 06:57:38\n"
     ]
    }
   ],
   "source": [
    "# Load the dataset\n",
    "import time\n",
    "os.environ['TZ'] = 'US/Pacific'\n",
    "print time.strftime(\"%a, %d %b %Y %H:%M:%S\", time.localtime())\n",
    "lm_name = 'neg'\n",
    "\n",
    "\n",
    "V = 10000\n",
    "vocab, train_ids, test_ids, dev_sents_by_cat = utils.load_corpus('movie_reviews', split1=0.7, split2=0.15, V=V, categories=lm_name, shuffle=42)\n",
    "dev_sents[lm_name] = dev_sents_by_cat\n",
    "print time.strftime(\"%a, %d %b %Y %H:%M:%S\", time.localtime())"
   ]
  },
  {
   "cell_type": "code",
   "execution_count": 21,
   "metadata": {
    "collapsed": false
   },
   "outputs": [],
   "source": [
    "# Training parameters\n",
    "max_time = 20\n",
    "batch_size = 50\n",
    "learning_rate = 0.5\n",
    "keep_prob = 1.0\n",
    "num_epochs = 10\n",
    "\n",
    "# Model parameters\n",
    "model_params = dict(V=V, \n",
    "                    H=100, \n",
    "                    num_layers=1)\n",
    "\n",
    "trained_filename = './tf_saved/rnnlm_trained' + '_' + lm_name"
   ]
  },
  {
   "cell_type": "code",
   "execution_count": 22,
   "metadata": {
    "collapsed": false
   },
   "outputs": [],
   "source": [
    "def score_dataset(lm, session, ids, name=\"Data\"):\n",
    "  bi = utils.batch_generator(ids, batch_size=100, max_time=100)\n",
    "  cost = run_epoch(lm, session, bi, \n",
    "                   learning_rate=1.0, keep_prob=1.0, \n",
    "                   train=False, verbose=False, tick_s=3600)\n",
    "  print \"%s: avg. loss: %.03f  (perplexity: %.02f)\" % (name, cost, np.exp(cost))"
   ]
  },
  {
   "cell_type": "code",
   "execution_count": 23,
   "metadata": {
    "collapsed": false,
    "scrolled": false
   },
   "outputs": [
    {
     "name": "stdout",
     "output_type": "stream",
     "text": [
      "Sat, 17 Dec 2016 06:57:42\n",
      "WARNING:tensorflow:From <ipython-input-23-66d61aafb82c>:16 in <module>.: initialize_all_variables (from tensorflow.python.ops.variables) is deprecated and will be removed after 2017-03-02.\n",
      "Instructions for updating:\n",
      "Use `tf.global_variables_initializer` instead.\n"
     ]
    },
    {
     "name": "stderr",
     "output_type": "stream",
     "text": [
      "WARNING:tensorflow:From <ipython-input-23-66d61aafb82c>:16 in <module>.: initialize_all_variables (from tensorflow.python.ops.variables) is deprecated and will be removed after 2017-03-02.\n",
      "Instructions for updating:\n",
      "Use `tf.global_variables_initializer` instead.\n"
     ]
    },
    {
     "name": "stdout",
     "output_type": "stream",
     "text": [
      "[epoch 1] Starting epoch 1\n",
      "[epoch 1] Completed in 0:01:43\n",
      "[epoch 1] Train set: avg. loss: 5.252  (perplexity: 191.04)\n",
      "[epoch 1] Test set: avg. loss: 5.409  (perplexity: 223.39)\n",
      "\n",
      "Sat, 17 Dec 2016 07:03:11\n",
      "[epoch 2] Starting epoch 2\n",
      "[epoch 2] Completed in 0:01:39\n",
      "[epoch 2] Train set: avg. loss: 4.971  (perplexity: 144.18)\n",
      "[epoch 2] Test set: avg. loss: 5.240  (perplexity: 188.62)\n",
      "\n",
      "Sat, 17 Dec 2016 07:08:24\n",
      "[epoch 3] Starting epoch 3\n",
      "[epoch 3] Completed in 0:01:39\n",
      "[epoch 3] Train set: avg. loss: 4.803  (perplexity: 121.88)\n",
      "[epoch 3] Test set: avg. loss: 5.159  (perplexity: 174.04)\n",
      "\n",
      "Sat, 17 Dec 2016 07:13:27\n",
      "[epoch 4] Starting epoch 4\n",
      "[epoch 4] Completed in 0:01:35\n",
      "[epoch 4] Train set: avg. loss: 4.678  (perplexity: 107.56)\n",
      "[epoch 4] Test set: avg. loss: 5.114  (perplexity: 166.41)\n",
      "\n",
      "Sat, 17 Dec 2016 07:18:21\n",
      "[epoch 5] Starting epoch 5\n",
      "[epoch 5] Completed in 0:01:34\n",
      "[epoch 5] Train set: avg. loss: 4.590  (perplexity: 98.51)\n",
      "[epoch 5] Test set: avg. loss: 5.093  (perplexity: 162.85)\n",
      "\n",
      "Sat, 17 Dec 2016 07:23:16\n",
      "[epoch 6] Starting epoch 6\n",
      "[epoch 6] Completed in 0:01:32\n",
      "[epoch 6] Train set: avg. loss: 4.523  (perplexity: 92.07)\n",
      "[epoch 6] Test set: avg. loss: 5.084  (perplexity: 161.43)\n",
      "\n",
      "Sat, 17 Dec 2016 07:27:57\n",
      "[epoch 7] Starting epoch 7\n",
      "[epoch 7] Completed in 0:01:31\n",
      "[epoch 7] Train set: avg. loss: 4.467  (perplexity: 87.08)\n",
      "[epoch 7] Test set: avg. loss: 5.081  (perplexity: 160.95)\n",
      "\n",
      "Sat, 17 Dec 2016 07:32:41\n",
      "[epoch 8] Starting epoch 8\n",
      "[epoch 8] Completed in 0:01:30\n",
      "[epoch 8] Train set: avg. loss: 4.418  (perplexity: 82.93)\n",
      "[epoch 8] Test set: avg. loss: 5.080  (perplexity: 160.77)\n",
      "\n",
      "Sat, 17 Dec 2016 07:37:20\n",
      "[epoch 9] Starting epoch 9\n",
      "[epoch 9] Completed in 0:01:36\n",
      "[epoch 9] Train set: avg. loss: 4.376  (perplexity: 79.54)\n",
      "[epoch 9] Test set: avg. loss: 5.084  (perplexity: 161.36)\n",
      "\n",
      "Sat, 17 Dec 2016 07:42:05\n",
      "[epoch 10] Starting epoch 10\n",
      "[epoch 10] Completed in 0:01:28\n",
      "[epoch 10] Train set: avg. loss: 4.341  (perplexity: 76.78)\n",
      "[epoch 10] Test set: avg. loss: 5.093  (perplexity: 162.94)\n",
      "\n",
      "Sat, 17 Dec 2016 07:46:38\n"
     ]
    }
   ],
   "source": [
    "# Will print status every this many seconds\n",
    "print_interval = 5\n",
    "print time.strftime(\"%a, %d %b %Y %H:%M:%S\", time.localtime())\n",
    "# Clear old log directory\n",
    "shutil.rmtree(\"tf_summaries\", ignore_errors=True)\n",
    "\n",
    "with tf.Graph().as_default(), tf.Session() as session:\n",
    "  # Seed RNG for repeatability\n",
    "  tf.set_random_seed(42)\n",
    "  \n",
    "  with tf.variable_scope(\"model\", reuse=None):\n",
    "    lm = rnnlm.RNNLM(**model_params)\n",
    "    lm.BuildCoreGraph()\n",
    "    lm.BuildTrainGraph()\n",
    "  \n",
    "  session.run(tf.initialize_all_variables())\n",
    "  saver = tf.train.Saver()\n",
    "  \n",
    "  for epoch in xrange(1,num_epochs+1):\n",
    "    t0_epoch = time.time()\n",
    "    bi = utils.batch_generator(train_ids, batch_size, max_time)\n",
    "    print \"[epoch %d] Starting epoch %d\" % (epoch, epoch)\n",
    "    #### YOUR CODE HERE ####\n",
    "\n",
    "    run_epoch(lm, session, bi, train=True, keep_prob=keep_prob, learning_rate=learning_rate)\n",
    "\n",
    "    #### END(YOUR CODE) ####\n",
    "    print \"[epoch %d] Completed in %s\" % (epoch, utils.pretty_timedelta(since=t0_epoch))\n",
    "    \n",
    "    ##\n",
    "    # score_dataset will run a forward pass over the entire dataset\n",
    "    # and report perplexity scores. This can be slow (around 1/2 to \n",
    "    # 1/4 as long as a full epoch), so you may want to comment it out\n",
    "    # to speed up training on a slow machine. Be sure to run it at the \n",
    "    # end to evaluate your score.\n",
    "    print (\"[epoch %d]\" % epoch),\n",
    "    score_dataset(lm, session, train_ids, name=\"Train set\")\n",
    "    print (\"[epoch %d]\" % epoch),\n",
    "    score_dataset(lm, session, test_ids, name=\"Test set\")\n",
    "    print \"\"\n",
    "    \n",
    "    # Save a checkpoint\n",
    "    saver.save(session, './tf_saved/rnnlm' + '_' + lm_name, global_step=epoch)\n",
    "    print time.strftime(\"%a, %d %b %Y %H:%M:%S\", time.localtime())\n",
    "  # Save final model\n",
    "  saver.save(session, trained_filename)"
   ]
  },
  {
   "cell_type": "code",
   "execution_count": 24,
   "metadata": {
    "collapsed": false
   },
   "outputs": [],
   "source": [
    "def sample_step(lm, session, input_w, initial_h):\n",
    "  \"\"\"Run a single RNN step and return sampled predictions.\n",
    "  \n",
    "  Args:\n",
    "    lm : rnnlm.RNNLM\n",
    "    session: tf.Session\n",
    "    input_w : [batch_size] list of indices\n",
    "    initial_h : [batch_size, hidden_dims]\n",
    "  \n",
    "  Returns:\n",
    "    final_h : final hidden state, compatible with initial_h\n",
    "    samples : [batch_size, 1] vector of indices\n",
    "  \"\"\"\n",
    "  #### YOUR CODE HERE ####\n",
    "  # Reshape input to column vector\n",
    "  input_w = np.array(input_w, dtype=np.int32).reshape([-1,1])\n",
    "  \n",
    "  # Run sample ops\n",
    "  final_h, samples = session.run([lm.final_h_, lm.pred_samples_], \n",
    "        feed_dict={lm.input_w_: input_w, lm.initial_h_: initial_h, lm.dropout_keep_prob_: 1.0, lm.learning_rate_:0.1})\n",
    "  \n",
    "  #### END(YOUR CODE) ####\n",
    "  return final_h, samples[:,-1,:]"
   ]
  },
  {
   "cell_type": "code",
   "execution_count": 25,
   "metadata": {
    "collapsed": false
   },
   "outputs": [
    {
     "name": "stdout",
     "output_type": "stream",
     "text": [
      "<s> amanda has gone wife in the where stereotypes include an oscar day , <unk> lost in the film , bruce \n",
      "<s> jessica ? <s> \n",
      "<s> played by you know whether it having made any other fails . <s> \n",
      "<s> long ever ' s the novel are a comedy , but cable after and female lead by slow to deal \n",
      "<s> escapes an amoral satisfying conclusion and ron <unk> ( in seattle , jesse ( the camera spent the males and \n",
      "<s> first movies that ' s a \" double team of the tv - <unk> , well <unk> brody and plays \n",
      "<s> or getting nothing not of yes , september <unk> ) get close without it is seen this movies , and \n",
      "<s> the end result , i ' television star or not getting my pick - or apocalyptic movie that ' s \n",
      "<s> many other reason that <unk> . <s> \n",
      "<s> my town and performs running into the feel left any idea is everywhere lines , more plots ) , \" \n"
     ]
    }
   ],
   "source": [
    "# Same as above, but as a batch\n",
    "reload(rnnlm)\n",
    "max_steps = 20\n",
    "num_samples = 10\n",
    "random_seed = 42\n",
    "\n",
    "with tf.Graph().as_default(), tf.Session() as session:\n",
    "  # Seed RNG for repeatability\n",
    "  tf.set_random_seed(random_seed)\n",
    "\n",
    "  with tf.variable_scope(\"model\", reuse=None):\n",
    "    lm = rnnlm.RNNLM(**model_params)\n",
    "    lm.BuildCoreGraph()\n",
    "    lm.BuildSamplerGraph()\n",
    "\n",
    "  # Load the trained model\n",
    "  saver = tf.train.Saver()\n",
    "  saver.restore(session, trained_filename)\n",
    "\n",
    "  # Make initial state for a batch with batch_size = num_samples\n",
    "  w = np.repeat([[vocab.START_ID]], num_samples, axis=0)\n",
    "  h = session.run(lm.initial_h_, {lm.input_w_: w})\n",
    "  # We'll take one step for each sequence on each iteration \n",
    "  for i in xrange(max_steps):\n",
    "    h, y = sample_step(lm, session, w[:,-1:], h)\n",
    "    w = np.hstack((w,y))\n",
    "\n",
    "  # Print generated sentences\n",
    "  for row in w:\n",
    "    for i, word_id in enumerate(row):\n",
    "      print vocab.id_to_word[word_id],\n",
    "      if (i != 0) and (word_id == vocab.START_ID):\n",
    "        break\n",
    "    print \"\""
   ]
  },
  {
   "cell_type": "code",
   "execution_count": 26,
   "metadata": {
    "collapsed": true
   },
   "outputs": [],
   "source": [
    "def score_seq(lm, session, seq, vocab):\n",
    "  \"\"\"Score a sequence of words. Returns total log-probability.\"\"\"\n",
    "  padded_ids = vocab.words_to_ids(utils.canonicalize_words([\"<s>\"] + seq, \n",
    "                                                           wordset=vocab.word_to_id))\n",
    "  w = np.reshape(padded_ids[:-1], [1,-1])\n",
    "  y = np.reshape(padded_ids[1:],  [1,-1])\n",
    "  h = session.run(lm.initial_h_, {lm.input_w_: w})\n",
    "  feed_dict = {lm.input_w_:w,\n",
    "               lm.target_y_:y,\n",
    "               lm.initial_h_:h,\n",
    "               lm.dropout_keep_prob_: 1.0}\n",
    "  # Return log(P(seq)) = -1*loss\n",
    "  return -1*session.run(lm.loss_, feed_dict)\n",
    "\n",
    "def load_and_score(inputs, sort=False, silent=False):\n",
    "  \"\"\"Load the trained model and score the given words.\"\"\"\n",
    "  with tf.Graph().as_default(), tf.Session() as session:  \n",
    "    with tf.variable_scope(\"model\", reuse=None):\n",
    "      lm = rnnlm.RNNLM(**model_params)\n",
    "      lm.BuildCoreGraph()\n",
    "        \n",
    "    # Load the trained model\n",
    "    saver = tf.train.Saver()\n",
    "    saver.restore(session, trained_filename)\n",
    "  \n",
    "    if isinstance(inputs[0], str) or isinstance(inputs[0], unicode):\n",
    "      inputs = [inputs]\n",
    "\n",
    "    # Actually run scoring\n",
    "    results = []\n",
    "    for words in inputs:\n",
    "      score = score_seq(lm, session, words, vocab)\n",
    "      results.append((score, words))\n",
    "    \n",
    "    # Sort if requested\n",
    "    if sort: results = sorted(results, reverse=True)\n",
    "    \n",
    "    # Print results\n",
    "    for score, words in results:\n",
    "      if not silent:\n",
    "          print \"\\\"%s\\\" : %.05f\" % (\" \".join(words), score)\n",
    "    if silent:\n",
    "      return score"
   ]
  },
  {
   "cell_type": "code",
   "execution_count": 27,
   "metadata": {
    "collapsed": false
   },
   "outputs": [
    {
     "name": "stdout",
     "output_type": "stream",
     "text": [
      "\"once upon a time\" : -20.58923\n",
      "\"the quick brown fox jumps over the lazy dog\" : -77.79940\n"
     ]
    }
   ],
   "source": [
    "sents = [\"once upon a time\",\n",
    "         \"the quick brown fox jumps over the lazy dog\"]\n",
    "load_and_score([s.split() for s in sents])"
   ]
  },
  {
   "cell_type": "code",
   "execution_count": 28,
   "metadata": {
    "collapsed": false
   },
   "outputs": [
    {
     "name": "stdout",
     "output_type": "stream",
     "text": [
      "\"the boy and the girl are\" : -29.20731\n",
      "\"the boy and the girl is\" : -27.89507\n",
      "\"the boys are\" : -13.95618\n",
      "\"the boys is\" : -12.79805\n",
      "\"there are many deer\" : -12.77805\n",
      "\"there are many deers\" : -12.77805\n"
     ]
    }
   ],
   "source": [
    "#### YOUR CODE HERE ####\n",
    "sents = [\"the boy and the girl are\",\n",
    "         \"the boy and the girl is\",\n",
    "         \n",
    "         \"the boys are\", \n",
    "         \"the boys is\",\n",
    "         \n",
    "         \"there are many deer\", \n",
    "         \"there are many deers\"]\n",
    "load_and_score([s.split() for s in sents])\n",
    "\n",
    "#### END(YOUR CODE) ####"
   ]
  },
  {
   "cell_type": "code",
   "execution_count": 29,
   "metadata": {
    "collapsed": false
   },
   "outputs": [
    {
     "name": "stdout",
     "output_type": "stream",
     "text": [
      "\"peanuts are my favorite kind of nut\" : -31.22075\n",
      "\"peanuts are my favorite kind of vegetable\" : -31.22075\n",
      "\"when I'm hungry I really prefer to eat\" : -61.23142\n",
      "\"when I'm hungry I really prefer to drink\" : -62.50514\n",
      "\"as nut\" : -6.62594\n",
      "\"as vegetable\" : -6.62594\n",
      "\"like nut\" : -8.61763\n",
      "\"like vegetable\" : -8.61763\n",
      "\"peanut as nut\" : -10.71208\n",
      "\"peanut as vegetable\" : -10.71208\n"
     ]
    }
   ],
   "source": [
    "#### YOUR CODE HERE ####\n",
    "\n",
    "sents = [\"peanuts are my favorite kind of nut\",\n",
    "         \"peanuts are my favorite kind of vegetable\",\n",
    "         \n",
    "         \"when I'm hungry I really prefer to eat\",\n",
    "         \"when I'm hungry I really prefer to drink\",\n",
    "         \n",
    "         \"as nut\",\n",
    "         \"as vegetable\",\n",
    "         \n",
    "         \"like nut\", \n",
    "         \"like vegetable\",\n",
    "         \n",
    "         \"peanut as nut\",\n",
    "         \"peanut as vegetable\"\n",
    "         ]\n",
    "load_and_score([s.split() for s in sents])\n",
    "\n",
    "\n",
    "#### END(YOUR CODE) ####"
   ]
  },
  {
   "cell_type": "code",
   "execution_count": 30,
   "metadata": {
    "collapsed": false
   },
   "outputs": [
    {
     "name": "stdout",
     "output_type": "stream",
     "text": [
      "\"I have lots of square plastic green toys\" : -60.67012\n",
      "\"I have lots of square green plastic toys\" : -62.83763\n",
      "\"I have lots of plastic square green toys\" : -65.46872\n",
      "\"I have lots of green square plastic toys\" : -67.34250\n",
      "\"I have lots of plastic green square toys\" : -67.68961\n",
      "\"I have lots of green plastic square toys\" : -72.32302\n"
     ]
    }
   ],
   "source": [
    "prefix = \"I have lots of\".split()\n",
    "noun = \"toys\"\n",
    "adjectives = [\"square\", \"green\", \"plastic\"]\n",
    "inputs = []\n",
    "for adjs in itertools.permutations(adjectives):\n",
    "  words = prefix + list(adjs) + [noun]\n",
    "  inputs.append(words)\n",
    "    \n",
    "load_and_score(inputs, sort=True)"
   ]
  },
  {
   "cell_type": "code",
   "execution_count": 31,
   "metadata": {
    "collapsed": false
   },
   "outputs": [
    {
     "name": "stdout",
     "output_type": "stream",
     "text": [
      "\"I have lots of flat green plastic toys\" : -61.12477\n",
      "\"I have lots of plastic flat green toys\" : -61.94820\n",
      "\"I have lots of flat plastic green toys\" : -63.83598\n",
      "\"I have lots of plastic green flat toys\" : -68.84360\n",
      "\"I have lots of green flat plastic toys\" : -70.38685\n",
      "\"I have lots of green plastic flat toys\" : -73.16902\n"
     ]
    }
   ],
   "source": [
    "prefix = \"I have lots of\".split()\n",
    "noun = \"toys\"\n",
    "adjectives = [\"flat\", \"green\", \"plastic\"]\n",
    "inputs = []\n",
    "for adjs in itertools.permutations(adjectives):\n",
    "  words = prefix + list(adjs) + [noun]\n",
    "  inputs.append(words)\n",
    "    \n",
    "load_and_score(inputs, sort=True)"
   ]
  },
  {
   "cell_type": "code",
   "execution_count": 32,
   "metadata": {
    "collapsed": false
   },
   "outputs": [
    {
     "name": "stdout",
     "output_type": "stream",
     "text": [
      "\"I have lots of plastic round green toys\" : -59.85853\n",
      "\"I have lots of plastic green round toys\" : -64.61606\n",
      "\"I have lots of green plastic round toys\" : -65.59953\n",
      "\"I have lots of round green plastic toys\" : -65.97829\n",
      "\"I have lots of round plastic green toys\" : -66.72260\n",
      "\"I have lots of green round plastic toys\" : -69.62610\n"
     ]
    }
   ],
   "source": [
    "prefix = \"I have lots of\".split()\n",
    "noun = \"toys\"\n",
    "adjectives = [\"round\", \"green\", \"plastic\"]\n",
    "inputs = []\n",
    "for adjs in itertools.permutations(adjectives):\n",
    "  words = prefix + list(adjs) + [noun]\n",
    "  inputs.append(words)\n",
    "    \n",
    "load_and_score(inputs, sort=True)"
   ]
  },
  {
   "cell_type": "code",
   "execution_count": 33,
   "metadata": {
    "collapsed": false
   },
   "outputs": [
    {
     "name": "stdout",
     "output_type": "stream",
     "text": [
      "[['I', 'have', 'lots', 'of', 'small', 'green', 'plastic', 'toys'], ['I', 'have', 'lots', 'of', 'small', 'plastic', 'green', 'toys'], ['I', 'have', 'lots', 'of', 'green', 'small', 'plastic', 'toys'], ['I', 'have', 'lots', 'of', 'green', 'plastic', 'small', 'toys'], ['I', 'have', 'lots', 'of', 'plastic', 'small', 'green', 'toys'], ['I', 'have', 'lots', 'of', 'plastic', 'green', 'small', 'toys']]\n",
      "\"I have lots of small green plastic toys\" : -58.50835\n",
      "\"I have lots of small plastic green toys\" : -58.67347\n",
      "\"I have lots of plastic green small toys\" : -61.02421\n",
      "\"I have lots of plastic small green toys\" : -61.09280\n",
      "\"I have lots of green plastic small toys\" : -63.32803\n",
      "\"I have lots of green small plastic toys\" : -65.33598\n"
     ]
    }
   ],
   "source": [
    "prefix = \"I have lots of\".split()\n",
    "noun = \"toys\"\n",
    "adjectives = [\"small\", \"green\", \"plastic\"]\n",
    "inputs = []\n",
    "for adjs in itertools.permutations(adjectives):\n",
    "  words = prefix + list(adjs) + [noun]\n",
    "  inputs.append(words)\n",
    "print inputs\n",
    "load_and_score(inputs, sort=True)"
   ]
  },
  {
   "cell_type": "code",
   "execution_count": 34,
   "metadata": {
    "collapsed": false
   },
   "outputs": [
    {
     "name": "stdout",
     "output_type": "stream",
     "text": [
      "\"hello fdsafj there\" : -3.10679\n"
     ]
    }
   ],
   "source": [
    "\n",
    "load_and_score(['hello fdsafj there'])"
   ]
  },
  {
   "cell_type": "code",
   "execution_count": 42,
   "metadata": {
    "collapsed": false
   },
   "outputs": [
    {
     "name": "stdout",
     "output_type": "stream",
     "text": [
      "0.0\n",
      "-6.70435523987\n",
      "-13.4087104797\n",
      "-20.1130657196\n",
      "-26.8174209595\n",
      "-33.5217761993\n",
      "-40.2261314392\n",
      "-46.9304866791\n",
      "-53.6348419189\n",
      "-60.3391971588\n",
      "-67.0435523987\n",
      "-73.7479076385 -0.0368924000193\n"
     ]
    }
   ],
   "source": [
    "\n",
    "lm_name = '55'\n",
    "trained_filename = './tf_saved/rnnlm_trained' + '_' + lm_name\n",
    "k = 0\n",
    "t = 0.0\n",
    "for s in open('5t.txt'):\n",
    "    if k <= 10:\n",
    "        print t\n",
    "        t = t + load_and_score([[q.strip() for q in s.split('\\n')]], silent=True)\n",
    "    k = k + 1\n",
    "print t, t/k"
   ]
  },
  {
   "cell_type": "markdown",
   "metadata": {},
   "source": [
    "Same thing here for 'small'."
   ]
  },
  {
   "cell_type": "code",
   "execution_count": 12,
   "metadata": {
    "collapsed": false
   },
   "outputs": [
    {
     "name": "stdout",
     "output_type": "stream",
     "text": [
      "Fri, 16 Dec 2016 20:48:32\n",
      "Fri, 16 Dec 2016 21:04:09\n",
      "average not_for_not: -7.43938440034\n",
      "average not_for_hot: -7.43913769257\n",
      "Fri, 16 Dec 2016 21:21:55\n"
     ]
    }
   ],
   "source": [
    "print time.strftime(\"%a, %d %b %Y %H:%M:%S\", time.localtime())\n",
    "\n",
    "lm_name = '15'\n",
    "trained_filename = './tf_saved/rnnlm_trained' + '_' + lm_name\n",
    "idx = 0\n",
    "ts_not_for_not = 0.0\n",
    "for s in open('1t.txt'):\n",
    "    ts_not_for_not = ts_not_for_not + load_and_score([[q.strip() for q in s.split('\\n')]], silent=True)\n",
    "    idx = idx + 1\n",
    "print time.strftime(\"%a, %d %b %Y %H:%M:%S\", time.localtime())\n",
    "print 'average not_for_not:', ts_not_for_not/idx\n",
    "\n",
    "idx = 0\n",
    "ts_not_for_hot = 0.0\n",
    "for s in open('5t.txt'):\n",
    "    ts_not_for_hot = ts_not_for_hot + load_and_score([[q.strip() for q in s.split('\\n')]], silent=True)\n",
    "    idx = idx + 1\n",
    "print 'average not_for_hot:', ts_not_for_hot/idx\n",
    "\n",
    "print time.strftime(\"%a, %d %b %Y %H:%M:%S\", time.localtime())\n"
   ]
  },
  {
   "cell_type": "code",
   "execution_count": 44,
   "metadata": {
    "collapsed": false
   },
   "outputs": [
    {
     "name": "stdout",
     "output_type": "stream",
     "text": [
      "Fri, 16 Dec 2016 08:31:14\n",
      "Fri, 16 Dec 2016 08:46:58\n",
      "average hot_for_not: -6.72165517153\n",
      "average hot_for_hot: -6.71585210912\n",
      "Fri, 16 Dec 2016 09:02:38\n"
     ]
    }
   ],
   "source": [
    "print time.strftime(\"%a, %d %b %Y %H:%M:%S\", time.localtime())\n",
    "\n",
    "lm_name = '55'\n",
    "trained_filename = './tf_saved/rnnlm_trained' + '_' + lm_name\n",
    "idx = 0\n",
    "ts_hot_for_not = 0.0\n",
    "for s in open('1t.txt'):\n",
    "    ts_hot_for_not = ts_hot_for_not + load_and_score([[q.strip() for q in s.split('\\n')]], silent=True)\n",
    "    idx = idx + 1\n",
    "print time.strftime(\"%a, %d %b %Y %H:%M:%S\", time.localtime())\n",
    "print 'average hot_for_not:', ts_hot_for_not/idx\n",
    "\n",
    "idx = 0\n",
    "ts_hot_for_hot = 0.0\n",
    "for s in open('5t.txt'):\n",
    "    ts_hot_for_hot = ts_hot_for_hot + load_and_score([[q.strip() for q in s.split('\\n')]], silent=True)\n",
    "    idx = idx + 1\n",
    "print 'average hot_for_hot:', ts_hot_for_hot/idx\n",
    "\n",
    "print time.strftime(\"%a, %d %b %Y %H:%M:%S\", time.localtime())\n"
   ]
  },
  {
   "cell_type": "code",
   "execution_count": 37,
   "metadata": {
    "collapsed": false
   },
   "outputs": [],
   "source": [
    "#import numpy as np\n",
    "#np.random.seed(3)\n",
    "\n",
    "#mr = nltk.corpus.movie_reviews\n",
    "#pos = [i for i in mr.sents(categories='pos')]\n",
    "#neg = [i for i in mr.sents(categories='neg')]\n",
    "\n",
    "#rng = np.random.RandomState(True)\n",
    "#rng.shuffle(pos)  # in-place\n",
    "#rng.shuffle(neg)\n"
   ]
  },
  {
   "cell_type": "code",
   "execution_count": null,
   "metadata": {
    "collapsed": false
   },
   "outputs": [],
   "source": [
    "#neg predictor\n",
    "total_pos = 0\n",
    "total_neg = 0\n",
    "tn = 0\n",
    "fn = 0\n",
    "tp = 0\n",
    "fp = 0\n",
    "\n",
    "for s in dev_sents['pos']:\n",
    "    lm_name = 'pos'\n",
    "    trained_filename = './tf_saved/rnnlm_trained' + '_' + lm_name\n",
    "    pos_score = load_and_score(s, silent=True)\n",
    "    lm_name = 'neg'\n",
    "    trained_filename = './tf_saved/rnnlm_trained' + '_' + lm_name\n",
    "    neg_score = load_and_score(s, silent=True)\n",
    "    if pos_score > neg_score:\n",
    "        tp = tp + 1\n",
    "    else:\n",
    "        if pos_score < neg_score:\n",
    "            fp = fp + 1\n",
    "        else: #flip a coin\n",
    "            if np.random.randint(0, 1) == 0:\n",
    "                tp = tp + 1\n",
    "            else: \n",
    "                fp = fp + 1\n",
    "    total_pos = total_pos + 1\n",
    "print time.strftime(\"%a, %d %b %Y %H:%M:%S\", time.localtime())\n",
    "\n",
    "for s in dev_sents['neg']:\n",
    "    lm_name = 'pos'\n",
    "    trained_filename = './tf_saved/rnnlm_trained' + '_' + lm_name\n",
    "    pos_score = load_and_score(s, silent=True)\n",
    "    lm_name = 'neg'\n",
    "    trained_filename = './tf_saved/rnnlm_trained' + '_' + lm_name\n",
    "    neg_score = load_and_score(s, silent=True)\n",
    "    if pos_score < neg_score:\n",
    "        tn = tn + 1\n",
    "    else:\n",
    "        if pos_score > neg_score:\n",
    "            fn = fn + 1\n",
    "        else: #flip a coin\n",
    "            if np.random.randint(0, 1) == 0:\n",
    "                tn = tn + 1\n",
    "            else:\n",
    "                fn = fn + 1\n",
    "    total_neg = total_neg + 1\n",
    "\n",
    "print tp, fp, tn, fn, total_pos, total_neg\n"
   ]
  },
  {
   "cell_type": "code",
   "execution_count": null,
   "metadata": {
    "collapsed": true
   },
   "outputs": [],
   "source": [
    "\n",
    "precision = tp * 1.0 / (tp+fp)\n",
    "recall = tp * 1.0 / (tp+fn)\n",
    "accuracy = (tp + tn) * 1.0 / (tp+fp+tn+fn)\n",
    "true_neg_rate = tn * 1.0 / (tn + fp)\n",
    "f-measure = 2.0 * precision * recall / (precision + recall)\n",
    "\n",
    "print \"precision = %.2f, recall = %.2f, recall = %.2f, accuracy = %.2f, true_neg_rate = %.2f, f-measure = %.2f\\n\" % \n",
    "      (precision*100, recall*100, accuracy*100, true_neg_rate*100, f-measure*100)"
   ]
  }
 ],
 "metadata": {
  "kernelspec": {
   "display_name": "Python 2",
   "language": "python",
   "name": "python2"
  },
  "language_info": {
   "codemirror_mode": {
    "name": "ipython",
    "version": 2
   },
   "file_extension": ".py",
   "mimetype": "text/x-python",
   "name": "python",
   "nbconvert_exporter": "python",
   "pygments_lexer": "ipython2",
   "version": "2.7.6"
  }
 },
 "nbformat": 4,
 "nbformat_minor": 0
}
