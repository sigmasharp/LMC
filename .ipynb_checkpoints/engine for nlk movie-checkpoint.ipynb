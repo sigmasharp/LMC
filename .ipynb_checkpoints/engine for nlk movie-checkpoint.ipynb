{
 "cells": [
  {
   "cell_type": "markdown",
   "metadata": {
    "collapsed": false
   },
   "source": [
    "# Applying LM to do sentiment Analysis for nltk.movie_reviews"
   ]
  },
  {
   "cell_type": "code",
   "execution_count": null,
   "metadata": {
    "collapsed": true
   },
   "outputs": [],
   "source": [
    "import os, sys, re, json, time, shutil\n",
    "import itertools\n",
    "import collections\n",
    "from IPython.display import display\n",
    "\n",
    "# NLTK for NLP utils and corpora\n",
    "import nltk\n",
    "\n",
    "# NumPy and TensorFlow\n",
    "import numpy as np\n",
    "import tensorflow as tf\n",
    "\n",
    "# Pandas because pandas are awesome, and for pretty-printing\n",
    "import pandas as pd\n",
    "# Set pandas floating point display\n",
    "pd.set_option('float_format', lambda f: \"{0:.04f}\".format(f))\n",
    "\n",
    "# Helper libraries for this notebook\n",
    "import utils; reload(utils)\n",
    "import vocabulary; reload(vocabulary)\n",
    "import rnnlm; reload(rnnlm)"
   ]
  },
  {
   "cell_type": "code",
   "execution_count": 2,
   "metadata": {
    "collapsed": false,
    "scrolled": true
   },
   "outputs": [],
   "source": [
    "import tensorflow as tf\n",
    "import rnnlm; reload(rnnlm)\n",
    "\n",
    "# Clear old log directory\n",
    "shutil.rmtree(\"tf_summaries\", ignore_errors=True)\n",
    "\n",
    "\n",
    "with tf.Graph().as_default():\n",
    "  tf.set_random_seed(42)\n",
    "\n",
    "  lm = rnnlm.RNNLM(V=10000, H=200, num_layers=2)\n",
    "  lm.BuildCoreGraph()\n",
    "  lm.BuildTrainGraph()\n",
    "  lm.BuildSamplerGraph()\n",
    "\n",
    "  summary_writer = tf.train.SummaryWriter(\"tf_summaries\", \n",
    "                                          tf.get_default_graph())\n",
    "dev_sents = {}"
   ]
  },
  {
   "cell_type": "code",
   "execution_count": 3,
   "metadata": {
    "collapsed": false
   },
   "outputs": [],
   "source": [
    "def run_epoch(lm, session, batch_iterator, train=False,\n",
    "              verbose=False, tick_s=10, \n",
    "              keep_prob=1.0, learning_rate=0.1):\n",
    "  start_time = time.time()\n",
    "  tick_time = start_time  # for showing status\n",
    "  total_cost = 0.0  # total cost, summed over all words\n",
    "  total_words = 0\n",
    "\n",
    "  if train:\n",
    "    train_op = lm.train_step_\n",
    "    keep_prob = keep_prob\n",
    "    loss = lm.train_loss_\n",
    "  else:\n",
    "    train_op = tf.no_op()\n",
    "    keep_prob = 1.0  # no dropout at test time\n",
    "    loss = lm.loss_  # true loss, if train_loss is an approximation\n",
    "\n",
    "  for i, (w, y) in enumerate(batch_iterator):\n",
    "    cost = 0.0\n",
    "    #### YOUR CODE HERE ####\n",
    "    np.random.seed(42)\n",
    "\n",
    "    # At first batch in epoch, get a clean intitial state\n",
    "    if i == 0:\n",
    "        h = session.run(lm.initial_h_, {lm.input_w_: w})\n",
    " \n",
    "    cost, h, _ = session.run([loss, lm.final_h_, train_op], feed_dict= {lm.target_y_: y, lm.initial_h_:h,\n",
    "        lm.input_w_: w, lm.dropout_keep_prob_:keep_prob, lm.learning_rate_:learning_rate})      \n",
    "    \n",
    "    #### END(YOUR CODE) ####\n",
    "    total_cost += cost\n",
    "    total_words += w.size  # w.size = batch_size * max_time\n",
    "\n",
    "    ##\n",
    "    # Print average loss-so-far for epoch\n",
    "    # If using train_loss_, this may be an underestimate.\n",
    "    if verbose and (time.time() - tick_time >= tick_s):\n",
    "      avg_cost = total_cost / total_words\n",
    "      avg_wps = total_words / (time.time() - start_time)\n",
    "      print \"[batch %d]: seen %d words at %d wps, loss = %.3f\" % (i,\n",
    "          total_words, avg_wps, avg_cost)\n",
    "      tick_time = time.time()  # reset time ticker\n",
    "\n",
    "  return total_cost / total_words"
   ]
  },
  {
   "cell_type": "code",
   "execution_count": 19,
   "metadata": {
    "collapsed": false
   },
   "outputs": [
    {
     "name": "stdout",
     "output_type": "stream",
     "text": [
      "Sat, 17 Dec 2016 15:16:58\n",
      "Loaded 35495 sentences (751256 tokens)\n",
      "Training set: 28396 sentences (601237 tokens)\n",
      "Test set: 3549 sentences (74607 tokens)\n",
      "Dev set: 3550 sentences (75412 tokens)\n",
      "Sat, 17 Dec 2016 15:17:08\n"
     ]
    }
   ],
   "source": [
    "# Load the dataset\n",
    "import time\n",
    "os.environ['TZ'] = 'US/Pacific'\n",
    "print time.strftime(\"%a, %d %b %Y %H:%M:%S\", time.localtime())\n",
    "lm_name = 'neg'\n",
    "\n",
    "\n",
    "V = 10000\n",
    "vocab, train_ids, test_ids, dev_sents_by_cat = utils.load_corpus('movie_reviews', split1=0.8, split2=0.10, V=V, categories=lm_name, shuffle=42)\n",
    "dev_sents[lm_name] = dev_sents_by_cat\n",
    "print time.strftime(\"%a, %d %b %Y %H:%M:%S\", time.localtime())"
   ]
  },
  {
   "cell_type": "code",
   "execution_count": 20,
   "metadata": {
    "collapsed": false
   },
   "outputs": [],
   "source": [
    "# Training parameters\n",
    "max_time = 20\n",
    "batch_size = 50\n",
    "learning_rate = 0.5\n",
    "keep_prob = 1.0\n",
    "num_epochs = 10\n",
    "\n",
    "# Model parameters\n",
    "model_params = dict(V=V, \n",
    "                    H=100, \n",
    "                    num_layers=1)\n",
    "\n",
    "trained_filename = './tf_saved/rnnlm_trained' + '_' + lm_name"
   ]
  },
  {
   "cell_type": "code",
   "execution_count": 21,
   "metadata": {
    "collapsed": false
   },
   "outputs": [],
   "source": [
    "def score_dataset(lm, session, ids, name=\"Data\"):\n",
    "  bi = utils.batch_generator(ids, batch_size=100, max_time=100)\n",
    "  cost = run_epoch(lm, session, bi, \n",
    "                   learning_rate=1.0, keep_prob=1.0, \n",
    "                   train=False, verbose=False, tick_s=3600)\n",
    "  print \"%s: avg. loss: %.03f  (perplexity: %.02f)\" % (name, cost, np.exp(cost))"
   ]
  },
  {
   "cell_type": "code",
   "execution_count": 22,
   "metadata": {
    "collapsed": false,
    "scrolled": true
   },
   "outputs": [
    {
     "name": "stdout",
     "output_type": "stream",
     "text": [
      "Sat, 17 Dec 2016 15:17:10\n",
      "WARNING:tensorflow:From <ipython-input-22-66d61aafb82c>:16 in <module>.: initialize_all_variables (from tensorflow.python.ops.variables) is deprecated and will be removed after 2017-03-02.\n",
      "Instructions for updating:\n",
      "Use `tf.global_variables_initializer` instead.\n"
     ]
    },
    {
     "name": "stderr",
     "output_type": "stream",
     "text": [
      "WARNING:tensorflow:From <ipython-input-22-66d61aafb82c>:16 in <module>.: initialize_all_variables (from tensorflow.python.ops.variables) is deprecated and will be removed after 2017-03-02.\n",
      "Instructions for updating:\n",
      "Use `tf.global_variables_initializer` instead.\n"
     ]
    },
    {
     "name": "stdout",
     "output_type": "stream",
     "text": [
      "[epoch 1] Starting epoch 1\n",
      "[epoch 1] Completed in 0:01:34\n",
      "[epoch 1] Train set: avg. loss: 5.252  (perplexity: 191.04)\n",
      "[epoch 1] Test set: avg. loss: 5.401  (perplexity: 221.62)\n",
      "\n",
      "Sat, 17 Dec 2016 15:21:43\n",
      "[epoch 2] Starting epoch 2\n",
      "[epoch 2] Completed in 0:01:33\n",
      "[epoch 2] Train set: avg. loss: 4.971  (perplexity: 144.18)\n",
      "[epoch 2] Test set: avg. loss: 5.230  (perplexity: 186.83)\n",
      "\n",
      "Sat, 17 Dec 2016 15:26:05\n",
      "[epoch 3] Starting epoch 3\n",
      "[epoch 3] Completed in 0:01:31\n",
      "[epoch 3] Train set: avg. loss: 4.803  (perplexity: 121.88)\n",
      "[epoch 3] Test set: avg. loss: 5.152  (perplexity: 172.70)\n",
      "\n",
      "Sat, 17 Dec 2016 15:30:09\n",
      "[epoch 4] Starting epoch 4\n",
      "[epoch 4] Completed in 0:01:24\n",
      "[epoch 4] Train set: avg. loss: 4.678  (perplexity: 107.56)\n",
      "[epoch 4] Test set: avg. loss: 5.106  (perplexity: 165.03)\n",
      "\n",
      "Sat, 17 Dec 2016 15:34:01\n",
      "[epoch 5] Starting epoch 5\n",
      "[epoch 5] Completed in 0:01:24\n",
      "[epoch 5] Train set: avg. loss: 4.590  (perplexity: 98.51)\n",
      "[epoch 5] Test set: avg. loss: 5.085  (perplexity: 161.61)\n",
      "\n",
      "Sat, 17 Dec 2016 15:37:54\n",
      "[epoch 6] Starting epoch 6\n",
      "[epoch 6] Completed in 0:01:32\n",
      "[epoch 6] Train set: avg. loss: 4.523  (perplexity: 92.07)\n",
      "[epoch 6] Test set: avg. loss: 5.077  (perplexity: 160.26)\n",
      "\n",
      "Sat, 17 Dec 2016 15:42:22\n",
      "[epoch 7] Starting epoch 7\n",
      "[epoch 7] Completed in 0:01:34\n",
      "[epoch 7] Train set: avg. loss: 4.467  (perplexity: 87.08)\n",
      "[epoch 7] Test set: avg. loss: 5.076  (perplexity: 160.05)\n",
      "\n",
      "Sat, 17 Dec 2016 15:46:55\n",
      "[epoch 8] Starting epoch 8\n",
      "[epoch 8] Completed in 0:01:33\n",
      "[epoch 8] Train set: avg. loss: 4.418  (perplexity: 82.93)\n",
      "[epoch 8] Test set: avg. loss: 5.073  (perplexity: 159.72)\n",
      "\n",
      "Sat, 17 Dec 2016 15:51:11\n",
      "[epoch 9] Starting epoch 9\n",
      "[epoch 9] Completed in 0:01:22\n",
      "[epoch 9] Train set: avg. loss: 4.376  (perplexity: 79.54)\n",
      "[epoch 9] Test set: avg. loss: 5.078  (perplexity: 160.47)\n",
      "\n",
      "Sat, 17 Dec 2016 15:55:06\n",
      "[epoch 10] Starting epoch 10\n",
      "[epoch 10] Completed in 0:01:31\n",
      "[epoch 10] Train set: avg. loss: 4.341  (perplexity: 76.78)\n",
      "[epoch 10] Test set: avg. loss: 5.088  (perplexity: 162.12)\n",
      "\n",
      "Sat, 17 Dec 2016 15:59:12\n"
     ]
    }
   ],
   "source": [
    "# Will print status every this many seconds\n",
    "print_interval = 5\n",
    "print time.strftime(\"%a, %d %b %Y %H:%M:%S\", time.localtime())\n",
    "# Clear old log directory\n",
    "shutil.rmtree(\"tf_summaries\", ignore_errors=True)\n",
    "\n",
    "with tf.Graph().as_default(), tf.Session() as session:\n",
    "  # Seed RNG for repeatability\n",
    "  tf.set_random_seed(42)\n",
    "  \n",
    "  with tf.variable_scope(\"model\", reuse=None):\n",
    "    lm = rnnlm.RNNLM(**model_params)\n",
    "    lm.BuildCoreGraph()\n",
    "    lm.BuildTrainGraph()\n",
    "  \n",
    "  session.run(tf.initialize_all_variables())\n",
    "  saver = tf.train.Saver()\n",
    "  \n",
    "  for epoch in xrange(1,num_epochs+1):\n",
    "    t0_epoch = time.time()\n",
    "    bi = utils.batch_generator(train_ids, batch_size, max_time)\n",
    "    print \"[epoch %d] Starting epoch %d\" % (epoch, epoch)\n",
    "    #### YOUR CODE HERE ####\n",
    "\n",
    "    run_epoch(lm, session, bi, train=True, keep_prob=keep_prob, learning_rate=learning_rate)\n",
    "\n",
    "    #### END(YOUR CODE) ####\n",
    "    print \"[epoch %d] Completed in %s\" % (epoch, utils.pretty_timedelta(since=t0_epoch))\n",
    "    \n",
    "    ##\n",
    "    # score_dataset will run a forward pass over the entire dataset\n",
    "    # and report perplexity scores. This can be slow (around 1/2 to \n",
    "    # 1/4 as long as a full epoch), so you may want to comment it out\n",
    "    # to speed up training on a slow machine. Be sure to run it at the \n",
    "    # end to evaluate your score.\n",
    "    print (\"[epoch %d]\" % epoch),\n",
    "    score_dataset(lm, session, train_ids, name=\"Train set\")\n",
    "    print (\"[epoch %d]\" % epoch),\n",
    "    score_dataset(lm, session, test_ids, name=\"Test set\")\n",
    "    print \"\"\n",
    "    \n",
    "    # Save a checkpoint\n",
    "    saver.save(session, './tf_saved/rnnlm' + '_' + lm_name, global_step=epoch)\n",
    "    print time.strftime(\"%a, %d %b %Y %H:%M:%S\", time.localtime())\n",
    "  # Save final model\n",
    "  saver.save(session, trained_filename)"
   ]
  },
  {
   "cell_type": "code",
   "execution_count": 24,
   "metadata": {
    "collapsed": false
   },
   "outputs": [],
   "source": [
    "def sample_step(lm, session, input_w, initial_h):\n",
    "  \"\"\"Run a single RNN step and return sampled predictions.\n",
    "  \n",
    "  Args:\n",
    "    lm : rnnlm.RNNLM\n",
    "    session: tf.Session\n",
    "    input_w : [batch_size] list of indices\n",
    "    initial_h : [batch_size, hidden_dims]\n",
    "  \n",
    "  Returns:\n",
    "    final_h : final hidden state, compatible with initial_h\n",
    "    samples : [batch_size, 1] vector of indices\n",
    "  \"\"\"\n",
    "  #### YOUR CODE HERE ####\n",
    "  # Reshape input to column vector\n",
    "  input_w = np.array(input_w, dtype=np.int32).reshape([-1,1])\n",
    "  \n",
    "  # Run sample ops\n",
    "  final_h, samples = session.run([lm.final_h_, lm.pred_samples_], \n",
    "        feed_dict={lm.input_w_: input_w, lm.initial_h_: initial_h, lm.dropout_keep_prob_: 1.0, lm.learning_rate_:0.1})\n",
    "  \n",
    "  #### END(YOUR CODE) ####\n",
    "  return final_h, samples[:,-1,:]"
   ]
  },
  {
   "cell_type": "code",
   "execution_count": 25,
   "metadata": {
    "collapsed": false
   },
   "outputs": [
    {
     "name": "stdout",
     "output_type": "stream",
     "text": [
      "<s> amanda has gone wife in the where stereotypes include an oscar day , <unk> lost in the film , bruce \n",
      "<s> jessica ? <s> \n",
      "<s> played by you know whether it having made any other fails . <s> \n",
      "<s> long ever ' s the novel are a comedy , but cable after and female lead by slow to deal \n",
      "<s> escapes an amoral satisfying conclusion and ron <unk> ( in seattle , jesse ( the camera spent the males and \n",
      "<s> first movies that ' s a \" double team of the tv - <unk> , well <unk> brody and plays \n",
      "<s> or getting nothing not of yes , september <unk> ) get close without it is seen this movies , and \n",
      "<s> the end result , i ' television star or not getting my pick - or apocalyptic movie that ' s \n",
      "<s> many other reason that <unk> . <s> \n",
      "<s> my town and performs running into the feel left any idea is everywhere lines , more plots ) , \" \n"
     ]
    }
   ],
   "source": [
    "# Same as above, but as a batch\n",
    "reload(rnnlm)\n",
    "max_steps = 20\n",
    "num_samples = 10\n",
    "random_seed = 42\n",
    "\n",
    "with tf.Graph().as_default(), tf.Session() as session:\n",
    "  # Seed RNG for repeatability\n",
    "  tf.set_random_seed(random_seed)\n",
    "\n",
    "  with tf.variable_scope(\"model\", reuse=None):\n",
    "    lm = rnnlm.RNNLM(**model_params)\n",
    "    lm.BuildCoreGraph()\n",
    "    lm.BuildSamplerGraph()\n",
    "\n",
    "  # Load the trained model\n",
    "  saver = tf.train.Saver()\n",
    "  saver.restore(session, trained_filename)\n",
    "\n",
    "  # Make initial state for a batch with batch_size = num_samples\n",
    "  w = np.repeat([[vocab.START_ID]], num_samples, axis=0)\n",
    "  h = session.run(lm.initial_h_, {lm.input_w_: w})\n",
    "  # We'll take one step for each sequence on each iteration \n",
    "  for i in xrange(max_steps):\n",
    "    h, y = sample_step(lm, session, w[:,-1:], h)\n",
    "    w = np.hstack((w,y))\n",
    "\n",
    "  # Print generated sentences\n",
    "  for row in w:\n",
    "    for i, word_id in enumerate(row):\n",
    "      print vocab.id_to_word[word_id],\n",
    "      if (i != 0) and (word_id == vocab.START_ID):\n",
    "        break\n",
    "    print \"\""
   ]
  },
  {
   "cell_type": "code",
   "execution_count": 26,
   "metadata": {
    "collapsed": true
   },
   "outputs": [],
   "source": [
    "def score_seq(lm, session, seq, vocab):\n",
    "  \"\"\"Score a sequence of words. Returns total log-probability.\"\"\"\n",
    "  padded_ids = vocab.words_to_ids(utils.canonicalize_words([\"<s>\"] + seq, \n",
    "                                                           wordset=vocab.word_to_id))\n",
    "  w = np.reshape(padded_ids[:-1], [1,-1])\n",
    "  y = np.reshape(padded_ids[1:],  [1,-1])\n",
    "  h = session.run(lm.initial_h_, {lm.input_w_: w})\n",
    "  feed_dict = {lm.input_w_:w,\n",
    "               lm.target_y_:y,\n",
    "               lm.initial_h_:h,\n",
    "               lm.dropout_keep_prob_: 1.0}\n",
    "  # Return log(P(seq)) = -1*loss\n",
    "  return -1*session.run(lm.loss_, feed_dict)\n",
    "\n",
    "def load_and_score(inputs, sort=False, silent=False):\n",
    "  \"\"\"Load the trained model and score the given words.\"\"\"\n",
    "  with tf.Graph().as_default(), tf.Session() as session:  \n",
    "    with tf.variable_scope(\"model\", reuse=None):\n",
    "      lm = rnnlm.RNNLM(**model_params)\n",
    "      lm.BuildCoreGraph()\n",
    "        \n",
    "    # Load the trained model\n",
    "    saver = tf.train.Saver()\n",
    "    saver.restore(session, trained_filename)\n",
    "  \n",
    "    if isinstance(inputs[0], str) or isinstance(inputs[0], unicode):\n",
    "      inputs = [inputs]\n",
    "\n",
    "    # Actually run scoring\n",
    "    results = []\n",
    "    for words in inputs:\n",
    "      score = score_seq(lm, session, words, vocab)\n",
    "      results.append((score, words))\n",
    "    \n",
    "    # Sort if requested\n",
    "    if sort: results = sorted(results, reverse=True)\n",
    "    \n",
    "    # Print results\n",
    "    for score, words in results:\n",
    "      if not silent:\n",
    "          print \"\\\"%s\\\" : %.05f\" % (\" \".join(words), score)\n",
    "    if silent:\n",
    "      return [score for score, words in results]"
   ]
  },
  {
   "cell_type": "code",
   "execution_count": 27,
   "metadata": {
    "collapsed": false
   },
   "outputs": [
    {
     "name": "stdout",
     "output_type": "stream",
     "text": [
      "\"once upon a time\" : -20.58923\n",
      "\"the quick brown fox jumps over the lazy dog\" : -77.79940\n"
     ]
    }
   ],
   "source": [
    "sents = [\"once upon a time\",\n",
    "         \"the quick brown fox jumps over the lazy dog\"]\n",
    "load_and_score([s.split() for s in sents])"
   ]
  },
  {
   "cell_type": "code",
   "execution_count": 28,
   "metadata": {
    "collapsed": false
   },
   "outputs": [
    {
     "name": "stdout",
     "output_type": "stream",
     "text": [
      "\"the boy and the girl are\" : -29.20731\n",
      "\"the boy and the girl is\" : -27.89507\n",
      "\"the boys are\" : -13.95618\n",
      "\"the boys is\" : -12.79805\n",
      "\"there are many deer\" : -12.77805\n",
      "\"there are many deers\" : -12.77805\n"
     ]
    }
   ],
   "source": [
    "#### YOUR CODE HERE ####\n",
    "sents = [\"the boy and the girl are\",\n",
    "         \"the boy and the girl is\",\n",
    "         \n",
    "         \"the boys are\", \n",
    "         \"the boys is\",\n",
    "         \n",
    "         \"there are many deer\", \n",
    "         \"there are many deers\"]\n",
    "load_and_score([s.split() for s in sents])\n",
    "\n",
    "#### END(YOUR CODE) ####"
   ]
  },
  {
   "cell_type": "code",
   "execution_count": 29,
   "metadata": {
    "collapsed": false
   },
   "outputs": [
    {
     "name": "stdout",
     "output_type": "stream",
     "text": [
      "\"peanuts are my favorite kind of nut\" : -31.22075\n",
      "\"peanuts are my favorite kind of vegetable\" : -31.22075\n",
      "\"when I'm hungry I really prefer to eat\" : -61.23142\n",
      "\"when I'm hungry I really prefer to drink\" : -62.50514\n",
      "\"as nut\" : -6.62594\n",
      "\"as vegetable\" : -6.62594\n",
      "\"like nut\" : -8.61763\n",
      "\"like vegetable\" : -8.61763\n",
      "\"peanut as nut\" : -10.71208\n",
      "\"peanut as vegetable\" : -10.71208\n"
     ]
    }
   ],
   "source": [
    "#### YOUR CODE HERE ####\n",
    "\n",
    "sents = [\"peanuts are my favorite kind of nut\",\n",
    "         \"peanuts are my favorite kind of vegetable\",\n",
    "         \n",
    "         \"when I'm hungry I really prefer to eat\",\n",
    "         \"when I'm hungry I really prefer to drink\",\n",
    "         \n",
    "         \"as nut\",\n",
    "         \"as vegetable\",\n",
    "         \n",
    "         \"like nut\", \n",
    "         \"like vegetable\",\n",
    "         \n",
    "         \"peanut as nut\",\n",
    "         \"peanut as vegetable\"\n",
    "         ]\n",
    "load_and_score([s.split() for s in sents])\n",
    "\n",
    "\n",
    "#### END(YOUR CODE) ####"
   ]
  },
  {
   "cell_type": "code",
   "execution_count": 30,
   "metadata": {
    "collapsed": false
   },
   "outputs": [
    {
     "name": "stdout",
     "output_type": "stream",
     "text": [
      "\"I have lots of square plastic green toys\" : -60.67012\n",
      "\"I have lots of square green plastic toys\" : -62.83763\n",
      "\"I have lots of plastic square green toys\" : -65.46872\n",
      "\"I have lots of green square plastic toys\" : -67.34250\n",
      "\"I have lots of plastic green square toys\" : -67.68961\n",
      "\"I have lots of green plastic square toys\" : -72.32302\n"
     ]
    }
   ],
   "source": [
    "prefix = \"I have lots of\".split()\n",
    "noun = \"toys\"\n",
    "adjectives = [\"square\", \"green\", \"plastic\"]\n",
    "inputs = []\n",
    "for adjs in itertools.permutations(adjectives):\n",
    "  words = prefix + list(adjs) + [noun]\n",
    "  inputs.append(words)\n",
    "    \n",
    "load_and_score(inputs, sort=True)"
   ]
  },
  {
   "cell_type": "code",
   "execution_count": 31,
   "metadata": {
    "collapsed": false
   },
   "outputs": [
    {
     "name": "stdout",
     "output_type": "stream",
     "text": [
      "\"I have lots of flat green plastic toys\" : -61.12477\n",
      "\"I have lots of plastic flat green toys\" : -61.94820\n",
      "\"I have lots of flat plastic green toys\" : -63.83598\n",
      "\"I have lots of plastic green flat toys\" : -68.84360\n",
      "\"I have lots of green flat plastic toys\" : -70.38685\n",
      "\"I have lots of green plastic flat toys\" : -73.16902\n"
     ]
    }
   ],
   "source": [
    "prefix = \"I have lots of\".split()\n",
    "noun = \"toys\"\n",
    "adjectives = [\"flat\", \"green\", \"plastic\"]\n",
    "inputs = []\n",
    "for adjs in itertools.permutations(adjectives):\n",
    "  words = prefix + list(adjs) + [noun]\n",
    "  inputs.append(words)\n",
    "    \n",
    "load_and_score(inputs, sort=True)"
   ]
  },
  {
   "cell_type": "code",
   "execution_count": 32,
   "metadata": {
    "collapsed": false
   },
   "outputs": [
    {
     "name": "stdout",
     "output_type": "stream",
     "text": [
      "\"I have lots of plastic round green toys\" : -59.85853\n",
      "\"I have lots of plastic green round toys\" : -64.61606\n",
      "\"I have lots of green plastic round toys\" : -65.59953\n",
      "\"I have lots of round green plastic toys\" : -65.97829\n",
      "\"I have lots of round plastic green toys\" : -66.72260\n",
      "\"I have lots of green round plastic toys\" : -69.62610\n"
     ]
    }
   ],
   "source": [
    "prefix = \"I have lots of\".split()\n",
    "noun = \"toys\"\n",
    "adjectives = [\"round\", \"green\", \"plastic\"]\n",
    "inputs = []\n",
    "for adjs in itertools.permutations(adjectives):\n",
    "  words = prefix + list(adjs) + [noun]\n",
    "  inputs.append(words)\n",
    "    \n",
    "load_and_score(inputs, sort=True)"
   ]
  },
  {
   "cell_type": "code",
   "execution_count": 33,
   "metadata": {
    "collapsed": false
   },
   "outputs": [
    {
     "name": "stdout",
     "output_type": "stream",
     "text": [
      "[['I', 'have', 'lots', 'of', 'small', 'green', 'plastic', 'toys'], ['I', 'have', 'lots', 'of', 'small', 'plastic', 'green', 'toys'], ['I', 'have', 'lots', 'of', 'green', 'small', 'plastic', 'toys'], ['I', 'have', 'lots', 'of', 'green', 'plastic', 'small', 'toys'], ['I', 'have', 'lots', 'of', 'plastic', 'small', 'green', 'toys'], ['I', 'have', 'lots', 'of', 'plastic', 'green', 'small', 'toys']]\n",
      "\"I have lots of small green plastic toys\" : -58.50835\n",
      "\"I have lots of small plastic green toys\" : -58.67347\n",
      "\"I have lots of plastic green small toys\" : -61.02421\n",
      "\"I have lots of plastic small green toys\" : -61.09280\n",
      "\"I have lots of green plastic small toys\" : -63.32803\n",
      "\"I have lots of green small plastic toys\" : -65.33598\n"
     ]
    }
   ],
   "source": [
    "prefix = \"I have lots of\".split()\n",
    "noun = \"toys\"\n",
    "adjectives = [\"small\", \"green\", \"plastic\"]\n",
    "inputs = []\n",
    "for adjs in itertools.permutations(adjectives):\n",
    "  words = prefix + list(adjs) + [noun]\n",
    "  inputs.append(words)\n",
    "print inputs\n",
    "load_and_score(inputs, sort=True)"
   ]
  },
  {
   "cell_type": "code",
   "execution_count": 34,
   "metadata": {
    "collapsed": false
   },
   "outputs": [
    {
     "name": "stdout",
     "output_type": "stream",
     "text": [
      "Sat, 17 Dec 2016 16:02:50\n",
      "Sat, 17 Dec 2016 16:03:59\n"
     ]
    }
   ],
   "source": [
    "print time.strftime(\"%a, %d %b %Y %H:%M:%S\", time.localtime())\n",
    "#neg predictor\n",
    "total_pos = 0\n",
    "total_neg = 0\n",
    "tn = 0\n",
    "fn = 0\n",
    "tp = 0\n",
    "fp = 0\n",
    "#num_sample = 10000\n",
    "nopt = 0\n",
    "nont = 0\n",
    "\n",
    "lm_name = 'pos'\n",
    "trained_filename = './tf_saved/rnnlm_trained' + '_' + lm_name\n",
    "\n",
    "pos_for_pos_score = load_and_score(dev_sents['pos'], silent=True)\n",
    "neg_for_pos_score = load_and_score(dev_sents['neg'], silent=True)\n",
    "\n",
    "print time.strftime(\"%a, %d %b %Y %H:%M:%S\", time.localtime())\n",
    "\n",
    "\n",
    "lm_name = 'neg'\n",
    "trained_filename = './tf_saved/rnnlm_trained' + '_' + lm_name\n",
    "\n",
    "pos_for_neg_score = load_and_score(dev_sents['pos'], silent=True)\n",
    "neg_for_neg_score = load_and_score(dev_sents['neg'], silent=True)"
   ]
  },
  {
   "cell_type": "code",
   "execution_count": 35,
   "metadata": {
    "collapsed": false
   },
   "outputs": [
    {
     "name": "stdout",
     "output_type": "stream",
     "text": [
      "tp = 2519, fp = 1085, tn = 2054, fn = 1496, nopt = 0, nont = 0\n",
      "\n",
      "precision = 69.89, recall = 62.74, accuracy = 63.92, true_neg_rate = 65.43, f-measure = 66.12\n",
      "\n"
     ]
    }
   ],
   "source": [
    "for i in range(len(dev_sents['pos'])):\n",
    "    \n",
    "    if pos_for_pos_score[i] > pos_for_neg_score[i]:\n",
    "        tp = tp + 1\n",
    "    else:\n",
    "        if pos_for_pos_score[i] < pos_for_neg_score[i]:\n",
    "            fp = fp + 1\n",
    "        else: #flip a coin\n",
    "            nopt = nopt + 1\n",
    "            if np.random.randint(0, 1) == 0:\n",
    "                tp = tp + 1\n",
    "            else: \n",
    "                fp = fp + 1\n",
    "\n",
    "for i in range(len(dev_sents['neg'])):\n",
    "\n",
    "    if neg_for_pos_score[i] < neg_for_neg_score[i]:\n",
    "        tn = tn + 1\n",
    "    else:\n",
    "        if neg_for_pos_score[i] > neg_for_neg_score[i]:\n",
    "            fn = fn + 1\n",
    "        else: #flip a coin\n",
    "            nont = nont + 1\n",
    "            if np.random.randint(0, 1) == 0:\n",
    "                tn = tn + 1\n",
    "            else:\n",
    "                fn = fn + 1\n",
    "\n",
    "print \"tp = %d, fp = %d, tn = %d, fn = %d, nopt = %d, nont = %d\\n\" % (tp, fp, tn, fn, nopt, nont)\n",
    "\n",
    "precision = tp * 1.0 / (tp+fp)\n",
    "recall = tp * 1.0 / (tp+fn)\n",
    "accuracy = (tp + tn) * 1.0 / (tp+fp+tn+fn)\n",
    "true_neg_rate = tn * 1.0 / (tn + fp)\n",
    "f_measure = 2.0 * precision * recall / (precision + recall)\n",
    "\n",
    "print \"precision = %.2f, recall = %.2f, accuracy = %.2f, true_neg_rate = %.2f, f-measure = %.2f\\n\" % \\\n",
    "      (precision*100, recall*100, accuracy*100, true_neg_rate*100, f_measure*100)"
   ]
  },
  {
   "cell_type": "code",
   "execution_count": 36,
   "metadata": {
    "collapsed": false
   },
   "outputs": [
    {
     "name": "stdout",
     "output_type": "stream",
     "text": [
      "3604 3550 3604 3604 3550 3550\n"
     ]
    }
   ],
   "source": [
    "print len(dev_sents['pos']), len(dev_sents['neg']), len(pos_for_pos_score), len(pos_for_neg_score), len(neg_for_pos_score), len(neg_for_neg_score)"
   ]
  },
  {
   "cell_type": "code",
   "execution_count": 55,
   "metadata": {
    "collapsed": false
   },
   "outputs": [
    {
     "name": "stdout",
     "output_type": "stream",
     "text": [
      "Sat, 17 Dec 2016 12:56:52\n",
      "8386 1614 8544 1456 10000 10000\n",
      "Sat, 17 Dec 2016 13:03:30\n"
     ]
    }
   ],
   "source": [
    "import numpy as np\n",
    "np.random.seed(3)\n",
    "\n",
    "mr = nltk.corpus.movie_reviews\n",
    "pos = [i for i in mr.sents(categories='pos')]\n",
    "neg = [i for i in mr.sents(categories='neg')]\n",
    "\n",
    "rng = np.random.RandomState(True)\n",
    "rng.shuffle(pos)  # in-place\n",
    "rng.shuffle(neg)\n",
    "\n",
    "print time.strftime(\"%a, %d %b %Y %H:%M:%S\", time.localtime())\n",
    "#neg predictor\n",
    "total_pos = 0\n",
    "total_neg = 0\n",
    "tn = 0\n",
    "fn = 0\n",
    "tp = 0\n",
    "fp = 0\n",
    "num_sample = 10000\n",
    "\n",
    "lm_name = 'pos'\n",
    "trained_filename = './tf_saved/rnnlm_trained' + '_' + lm_name\n",
    "\n",
    "pos_for_pos_score = load_and_score(pos[:num_sample], silent=True)\n",
    "neg_for_pos_score = load_and_score(neg[:num_sample], silent=True)\n",
    "\n",
    "lm_name = 'neg'\n",
    "trained_filename = './tf_saved/rnnlm_trained' + '_' + lm_name\n",
    "\n",
    "pos_for_neg_score = load_and_score(pos[:num_sample], silent=True)\n",
    "neg_for_neg_score = load_and_score(neg[:num_sample], silent=True)\n",
    "\n",
    "\n",
    "for i in range(num_sample):\n",
    "    \n",
    "    if pos_for_pos_score[i] > pos_for_neg_score[i]:\n",
    "        tp = tp + 1\n",
    "    else:\n",
    "        if pos_for_pos_score[i] < pos_for_neg_score[i]:\n",
    "            fp = fp + 1\n",
    "        else: #flip a coin\n",
    "            nopt = nopt + 1\n",
    "            if np.random.randint(0, 1) == 0:\n",
    "                tp = tp + 1\n",
    "            else: \n",
    "                fp = fp + 1\n",
    "\n",
    "    if neg_for_pos_score[i] < neg_for_neg_score[i]:\n",
    "        tn = tn + 1\n",
    "    else:\n",
    "        if neg_for_pos_score[i] > neg_for_neg_score[i]:\n",
    "            fn = fn + 1\n",
    "        else: #flip a coin\n",
    "            if np.random.randint(0, 1) == 0:\n",
    "                tn = tn + 1\n",
    "            else:\n",
    "                fn = fn + 1\n",
    "\n",
    "print tp, fp, tn, fn, num_sample, num_sample\n",
    "print time.strftime(\"%a, %d %b %Y %H:%M:%S\", time.localtime())"
   ]
  },
  {
   "cell_type": "markdown",
   "metadata": {},
   "source": [
    "## Test Result"
   ]
  },
  {
   "cell_type": "code",
   "execution_count": 56,
   "metadata": {
    "collapsed": false
   },
   "outputs": [
    {
     "name": "stdout",
     "output_type": "stream",
     "text": [
      "precision = 83.86, recall = 85.21, accuracy = 84.65, true_neg_rate = 84.11, f-measure = 84.53\n",
      "\n"
     ]
    }
   ],
   "source": [
    "\n",
    "precision = tp * 1.0 / (tp+fp)\n",
    "recall = tp * 1.0 / (tp+fn)\n",
    "accuracy = (tp + tn) * 1.0 / (tp+fp+tn+fn)\n",
    "true_neg_rate = tn * 1.0 / (tn + fp)\n",
    "f_measure = 2.0 * precision * recall / (precision + recall)\n",
    "\n",
    "print \"precision = %.2f, recall = %.2f, accuracy = %.2f, true_neg_rate = %.2f, f-measure = %.2f\\n\" % \\\n",
    "      (precision*100, recall*100, accuracy*100, true_neg_rate*100, f_measure*100)\n",
    "    "
   ]
  },
  {
   "cell_type": "code",
   "execution_count": null,
   "metadata": {
    "collapsed": true
   },
   "outputs": [],
   "source": [
    "\n"
   ]
  }
 ],
 "metadata": {
  "kernelspec": {
   "display_name": "Python 2",
   "language": "python",
   "name": "python2"
  },
  "language_info": {
   "codemirror_mode": {
    "name": "ipython",
    "version": 2
   },
   "file_extension": ".py",
   "mimetype": "text/x-python",
   "name": "python",
   "nbconvert_exporter": "python",
   "pygments_lexer": "ipython2",
   "version": "2.7.6"
  }
 },
 "nbformat": 4,
 "nbformat_minor": 0
}
